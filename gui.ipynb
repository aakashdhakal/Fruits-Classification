{
 "cells": [
  {
   "cell_type": "code",
   "execution_count": 1,
   "metadata": {},
   "outputs": [
    {
     "name": "stdout",
     "output_type": "stream",
     "text": [
      "Datasets combined successfully!\n"
     ]
    }
   ],
   "source": [
    "import os\n",
    "import shutil\n",
    "from pathlib import Path\n",
    "\n",
    "# Define paths to your datasets\n",
    "dataset_paths = [\n",
    "    './Fruit-262/',\n",
    "    './fruits/',\n",
    "    './fruits_dataset/',\n",
    "    './fruits-360/'\n",
    "]\n",
    "\n",
    "# Define the combined dataset path\n",
    "combined_dataset_path = './combined_fruits_dataset/'\n",
    "\n",
    "# Define subdirectories for train, test, and val\n",
    "subdirs = ['train', 'test', 'val']\n",
    "\n",
    "# Create the combined dataset directory structure\n",
    "for subdir in subdirs:\n",
    "    os.makedirs(os.path.join(combined_dataset_path, subdir), exist_ok=True)\n",
    "\n",
    "# Function to copy images from source to destination\n",
    "def copy_images(src_dir, dest_dir):\n",
    "    for class_dir in os.listdir(src_dir):\n",
    "        class_path = os.path.join(src_dir, class_dir)\n",
    "        if os.path.isdir(class_path):\n",
    "            dest_class_path = os.path.join(dest_dir, class_dir)\n",
    "            os.makedirs(dest_class_path, exist_ok=True)\n",
    "            for img_file in os.listdir(class_path):\n",
    "                src_img_path = os.path.join(class_path, img_file)\n",
    "                dest_img_path = os.path.join(dest_class_path, img_file)\n",
    "                shutil.copy(src_img_path, dest_img_path)\n",
    "\n",
    "# Copy images from each dataset to the combined dataset\n",
    "for dataset_path in dataset_paths:\n",
    "    for subdir in subdirs:\n",
    "        src_subdir_path = os.path.join(dataset_path, subdir)\n",
    "        if os.path.exists(src_subdir_path):\n",
    "            dest_subdir_path = os.path.join(combined_dataset_path, subdir)\n",
    "            copy_images(src_subdir_path, dest_subdir_path)\n",
    "\n",
    "print(\"Datasets combined successfully!\")"
   ]
  }
 ],
 "metadata": {
  "kernelspec": {
   "display_name": ".venv",
   "language": "python",
   "name": "python3"
  },
  "language_info": {
   "codemirror_mode": {
    "name": "ipython",
    "version": 3
   },
   "file_extension": ".py",
   "mimetype": "text/x-python",
   "name": "python",
   "nbconvert_exporter": "python",
   "pygments_lexer": "ipython3",
   "version": "3.12.9"
  }
 },
 "nbformat": 4,
 "nbformat_minor": 2
}
